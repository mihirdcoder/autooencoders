{
  "nbformat": 4,
  "nbformat_minor": 0,
  "metadata": {
    "colab": {
      "name": "encoder_func.ipynb",
      "version": "0.3.2",
      "views": {},
      "default_view": {},
      "provenance": []
    },
    "kernelspec": {
      "name": "python3",
      "display_name": "Python 3"
    }
  },
  "cells": [
    {
      "metadata": {
        "id": "veFZHuvIwDPJ",
        "colab_type": "code",
        "colab": {
          "autoexec": {
            "startup": false,
            "wait_interval": 0
          },
          "base_uri": "https://localhost:8080/",
          "height": 34
        },
        "outputId": "e5599c7e-86e8-43ba-8f3f-2c9675bccd53",
        "executionInfo": {
          "status": "ok",
          "timestamp": 1528132397482,
          "user_tz": -330,
          "elapsed": 2289,
          "user": {
            "displayName": "Mihir Parulekar",
            "photoUrl": "https://lh3.googleusercontent.com/a/default-user=s128",
            "userId": "112736213772295891977"
          }
        }
      },
      "cell_type": "code",
      "source": [
        "from keras.layers import Input, Dense\n",
        "from keras.models import Model"
      ],
      "execution_count": 1,
      "outputs": [
        {
          "output_type": "stream",
          "text": [
            "Using TensorFlow backend.\n"
          ],
          "name": "stderr"
        }
      ]
    },
    {
      "metadata": {
        "id": "FrQcXVBIyc5U",
        "colab_type": "code",
        "colab": {
          "autoexec": {
            "startup": false,
            "wait_interval": 0
          }
        }
      },
      "cell_type": "code",
      "source": [
        "encoding_dim = 32\n",
        "input_img = Input(shape=(784,))\n",
        "encoded = Dense(encoding_dim, activation = 'relu')(input_img)\n",
        "decoded = Dense(784,  activation = 'sigmoid')(encoded)\n",
        "autoencoder = Model(input_img,  decoded)"
      ],
      "execution_count": 0,
      "outputs": []
    },
    {
      "metadata": {
        "id": "clkI8o0DzerO",
        "colab_type": "text"
      },
      "cell_type": "markdown",
      "source": [
        "Creating separate encoder and decoder model"
      ]
    },
    {
      "metadata": {
        "id": "hHFQao-yzuFC",
        "colab_type": "code",
        "colab": {
          "autoexec": {
            "startup": false,
            "wait_interval": 0
          }
        }
      },
      "cell_type": "code",
      "source": [
        "encoder = Model(input_img, encoded)"
      ],
      "execution_count": 0,
      "outputs": []
    },
    {
      "metadata": {
        "id": "V0ttwcbMz2rL",
        "colab_type": "code",
        "colab": {
          "autoexec": {
            "startup": false,
            "wait_interval": 0
          }
        }
      },
      "cell_type": "code",
      "source": [
        "encoded_input = Input(shape =(encoding_dim,))\n",
        "decoder_layer = autoencoder.layers[-1]\n",
        "decoder = Model(encoded_input, decoder_layer(encoded_input))"
      ],
      "execution_count": 0,
      "outputs": []
    },
    {
      "metadata": {
        "id": "BxJnc9yy1GFQ",
        "colab_type": "code",
        "colab": {
          "autoexec": {
            "startup": false,
            "wait_interval": 0
          }
        }
      },
      "cell_type": "code",
      "source": [
        "autoencoder.compile(optimizer = 'adadelta', loss='binary_crossentropy')"
      ],
      "execution_count": 0,
      "outputs": []
    },
    {
      "metadata": {
        "id": "2Ogq5xbG04KR",
        "colab_type": "code",
        "colab": {
          "autoexec": {
            "startup": false,
            "wait_interval": 0
          }
        }
      },
      "cell_type": "code",
      "source": [
        "from keras.datasets import mnist\n",
        "import numpy as np"
      ],
      "execution_count": 0,
      "outputs": []
    },
    {
      "metadata": {
        "id": "Try02ICi0n6d",
        "colab_type": "code",
        "colab": {
          "autoexec": {
            "startup": false,
            "wait_interval": 0
          }
        }
      },
      "cell_type": "code",
      "source": [
        "(x_train, _), (x_test,_) = mnist.load_data()"
      ],
      "execution_count": 0,
      "outputs": []
    },
    {
      "metadata": {
        "id": "k8tGVjGq13Bj",
        "colab_type": "code",
        "colab": {
          "autoexec": {
            "startup": false,
            "wait_interval": 0
          },
          "base_uri": "https://localhost:8080/",
          "height": 52
        },
        "outputId": "83eccd56-c6f7-478d-9cbf-f32907ffb445",
        "executionInfo": {
          "status": "ok",
          "timestamp": 1528133467954,
          "user_tz": -330,
          "elapsed": 1520,
          "user": {
            "displayName": "Mihir Parulekar",
            "photoUrl": "https://lh3.googleusercontent.com/a/default-user=s128",
            "userId": "112736213772295891977"
          }
        }
      },
      "cell_type": "code",
      "source": [
        "x_train = x_train.astype('float32') / 255\n",
        "x_test = x_test.astype('float32') / 255\n",
        "x_train = x_train.reshape((len(x_train), np.prod(x_train.shape[1:])))\n",
        "x_test = x_test.reshape((len(x_test), np.prod(x_test.shape[1:])))\n",
        "print (x_train.shape)\n",
        "print (x_test.shape)"
      ],
      "execution_count": 14,
      "outputs": [
        {
          "output_type": "stream",
          "text": [
            "(60000, 784)\n",
            "(10000, 784)\n"
          ],
          "name": "stdout"
        }
      ]
    },
    {
      "metadata": {
        "id": "gPU4_oJQ2k-J",
        "colab_type": "code",
        "colab": {
          "autoexec": {
            "startup": false,
            "wait_interval": 0
          },
          "base_uri": "https://localhost:8080/",
          "height": 1138
        },
        "outputId": "8a822dde-237d-405d-b0d3-3ade13fc2b24",
        "executionInfo": {
          "status": "ok",
          "timestamp": 1528135829881,
          "user_tz": -330,
          "elapsed": 171347,
          "user": {
            "displayName": "Mihir Parulekar",
            "photoUrl": "https://lh3.googleusercontent.com/a/default-user=s128",
            "userId": "112736213772295891977"
          }
        }
      },
      "cell_type": "code",
      "source": [
        "autoencoder.fit(x_train, x_train, epochs= 30, batch_size = 256, shuffle = True, validation_data=(x_test, x_test))"
      ],
      "execution_count": 21,
      "outputs": [
        {
          "output_type": "stream",
          "text": [
            "Train on 60000 samples, validate on 10000 samples\n",
            "Epoch 1/30\n",
            "60000/60000 [==============================] - 5s 89us/step - loss: 0.1670 - val_loss: 0.1635\n",
            "Epoch 2/30\n",
            "60000/60000 [==============================] - 6s 94us/step - loss: 0.1629 - val_loss: 0.1596\n",
            "Epoch 3/30\n",
            "60000/60000 [==============================] - 6s 96us/step - loss: 0.1591 - val_loss: 0.1559\n",
            "Epoch 4/30\n",
            "60000/60000 [==============================] - 6s 94us/step - loss: 0.1556 - val_loss: 0.1526\n",
            "Epoch 5/30\n",
            " 1024/60000 [..............................] - ETA: 5s - loss: 0.1541"
          ],
          "name": "stdout"
        },
        {
          "output_type": "stream",
          "text": [
            "60000/60000 [==============================] - 6s 93us/step - loss: 0.1523 - val_loss: 0.1494\n",
            "Epoch 6/30\n",
            "60000/60000 [==============================] - 6s 93us/step - loss: 0.1493 - val_loss: 0.1466\n",
            "Epoch 7/30\n",
            "60000/60000 [==============================] - 6s 92us/step - loss: 0.1465 - val_loss: 0.1438\n",
            "Epoch 8/30\n",
            "60000/60000 [==============================] - 6s 95us/step - loss: 0.1440 - val_loss: 0.1414\n",
            "Epoch 9/30\n",
            "29952/60000 [=============>................] - ETA: 2s - loss: 0.1425"
          ],
          "name": "stdout"
        },
        {
          "output_type": "stream",
          "text": [
            "60000/60000 [==============================] - 6s 99us/step - loss: 0.1417 - val_loss: 0.1391\n",
            "Epoch 10/30\n",
            "60000/60000 [==============================] - 6s 97us/step - loss: 0.1395 - val_loss: 0.1370\n",
            "Epoch 11/30\n",
            "60000/60000 [==============================] - 6s 99us/step - loss: 0.1375 - val_loss: 0.1351\n",
            "Epoch 12/30\n",
            "60000/60000 [==============================] - 6s 99us/step - loss: 0.1356 - val_loss: 0.1332\n",
            "Epoch 13/30\n",
            "32768/60000 [===============>..............] - ETA: 2s - loss: 0.1340"
          ],
          "name": "stdout"
        },
        {
          "output_type": "stream",
          "text": [
            "60000/60000 [==============================] - 6s 96us/step - loss: 0.1338 - val_loss: 0.1313\n",
            "Epoch 14/30\n",
            "60000/60000 [==============================] - 6s 96us/step - loss: 0.1320 - val_loss: 0.1296\n",
            "Epoch 15/30\n",
            "60000/60000 [==============================] - 6s 93us/step - loss: 0.1303 - val_loss: 0.1280\n",
            "Epoch 16/30\n",
            "60000/60000 [==============================] - 6s 95us/step - loss: 0.1287 - val_loss: 0.1263\n",
            "Epoch 17/30\n",
            "35072/60000 [================>.............] - ETA: 2s - loss: 0.1272"
          ],
          "name": "stdout"
        },
        {
          "output_type": "stream",
          "text": [
            "60000/60000 [==============================] - 6s 96us/step - loss: 0.1271 - val_loss: 0.1248\n",
            "Epoch 18/30\n",
            "60000/60000 [==============================] - 6s 95us/step - loss: 0.1255 - val_loss: 0.1232\n",
            "Epoch 19/30\n",
            "60000/60000 [==============================] - 6s 92us/step - loss: 0.1241 - val_loss: 0.1218\n",
            "Epoch 20/30\n",
            "60000/60000 [==============================] - 6s 92us/step - loss: 0.1227 - val_loss: 0.1205\n",
            "Epoch 21/30\n",
            "36608/60000 [=================>............] - ETA: 2s - loss: 0.1217"
          ],
          "name": "stdout"
        },
        {
          "output_type": "stream",
          "text": [
            "60000/60000 [==============================] - 6s 94us/step - loss: 0.1214 - val_loss: 0.1193\n",
            "Epoch 22/30\n",
            "60000/60000 [==============================] - 6s 93us/step - loss: 0.1201 - val_loss: 0.1180\n",
            "Epoch 23/30\n",
            "60000/60000 [==============================] - 6s 93us/step - loss: 0.1189 - val_loss: 0.1168\n",
            "Epoch 24/30\n",
            "60000/60000 [==============================] - 6s 94us/step - loss: 0.1178 - val_loss: 0.1157\n",
            "Epoch 25/30\n",
            "36864/60000 [=================>............] - ETA: 2s - loss: 0.1170"
          ],
          "name": "stdout"
        },
        {
          "output_type": "stream",
          "text": [
            "60000/60000 [==============================] - 6s 95us/step - loss: 0.1168 - val_loss: 0.1147\n",
            "Epoch 26/30\n",
            "60000/60000 [==============================] - 6s 93us/step - loss: 0.1158 - val_loss: 0.1138\n",
            "Epoch 27/30\n",
            "60000/60000 [==============================] - 6s 94us/step - loss: 0.1149 - val_loss: 0.1129\n",
            "Epoch 28/30\n",
            "60000/60000 [==============================] - 6s 95us/step - loss: 0.1141 - val_loss: 0.1121\n",
            "Epoch 29/30\n",
            "36608/60000 [=================>............] - ETA: 2s - loss: 0.1134"
          ],
          "name": "stdout"
        },
        {
          "output_type": "stream",
          "text": [
            "60000/60000 [==============================] - 5s 91us/step - loss: 0.1133 - val_loss: 0.1113\n",
            "Epoch 30/30\n",
            "60000/60000 [==============================] - 6s 93us/step - loss: 0.1125 - val_loss: 0.1106\n"
          ],
          "name": "stdout"
        },
        {
          "output_type": "execute_result",
          "data": {
            "text/plain": [
              "<keras.callbacks.History at 0x7fe8b68834a8>"
            ]
          },
          "metadata": {
            "tags": []
          },
          "execution_count": 21
        }
      ]
    },
    {
      "metadata": {
        "id": "1GR7w3Fc-AWS",
        "colab_type": "code",
        "colab": {
          "autoexec": {
            "startup": false,
            "wait_interval": 0
          }
        }
      },
      "cell_type": "code",
      "source": [
        "decoded_imgs = autoencoder.predict(x_test)"
      ],
      "execution_count": 0,
      "outputs": []
    },
    {
      "metadata": {
        "id": "7DDLyio9-p5H",
        "colab_type": "code",
        "colab": {
          "autoexec": {
            "startup": false,
            "wait_interval": 0
          },
          "base_uri": "https://localhost:8080/",
          "height": 266
        },
        "outputId": "88bd45ba-3e1f-4701-fd27-1f0e4d0c10be",
        "executionInfo": {
          "status": "ok",
          "timestamp": 1528135848195,
          "user_tz": -330,
          "elapsed": 2173,
          "user": {
            "displayName": "Mihir Parulekar",
            "photoUrl": "https://lh3.googleusercontent.com/a/default-user=s128",
            "userId": "112736213772295891977"
          }
        }
      },
      "cell_type": "code",
      "source": [
        "import matplotlib.pyplot as plt\n",
        "n = 10  # how many digits we will display\n",
        "plt.figure(figsize=(20, 4))\n",
        "for i in range(n):\n",
        "    # display original\n",
        "    ax = plt.subplot(2, n, i + 1)\n",
        "    plt.imshow(x_test[i].reshape(28, 28))\n",
        "    plt.gray()\n",
        "    ax.get_xaxis().set_visible(False)\n",
        "    ax.get_yaxis().set_visible(False)\n",
        "\n",
        "    # display reconstruction\n",
        "    ax = plt.subplot(2, n, i + 1 + n)\n",
        "    plt.imshow(decoded_imgs[i].reshape(28, 28))\n",
        "    plt.gray()\n",
        "    ax.get_xaxis().set_visible(False)\n",
        "    ax.get_yaxis().set_visible(False)\n",
        "plt.show()"
      ],
      "execution_count": 23,
      "outputs": [
        {
          "output_type": "display_data",
          "data": {
            "image/png": "[encoded data removed]",
            "text/plain": [
              "<matplotlib.figure.Figure at 0x7fe8b33df080>"
            ]
          },
          "metadata": {
            "tags": []
          }
        }
      ]
    }
  ]
}